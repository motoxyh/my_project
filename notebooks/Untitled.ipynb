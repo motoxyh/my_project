{
 "cells": [
  {
   "cell_type": "code",
   "execution_count": null,
   "id": "3c1af238-33b4-4288-a0ca-1aa72205f145",
   "metadata": {},
   "outputs": [],
   "source": []
  }
 ],
 "metadata": {
  "kernelspec": {
   "display_name": "",
   "name": ""
  },
  "language_info": {
   "name": ""
  }
 },
 "nbformat": 4,
 "nbformat_minor": 5
}
